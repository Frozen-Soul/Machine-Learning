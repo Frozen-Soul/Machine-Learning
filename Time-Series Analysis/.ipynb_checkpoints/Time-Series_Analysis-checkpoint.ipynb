{
 "cells": [
  {
   "cell_type": "markdown",
   "metadata": {},
   "source": [
    "<H1>Time Series Analysis with Keras and Stats Model</H1>\n",
    "<h4>Data Source: OpenAQ 3 years Pollution data of Bangalore city</h4>\n"
   ]
  },
  {
   "cell_type": "markdown",
   "metadata": {},
   "source": [
    "<p>This is a part of self-learning and enhancement of knowledge in the field of Data Science.<br>\n",
    "In this Project, We will evaluate The performance of suitable <b>StatsModel Time-Series</b> forecasting methods with GAN and LSTM <b>Deep Neural Networks</b>. This project will also shows of detailed analysis of pollution in mentioned city.    \n",
    "</p>"
   ]
  },
  {
   "cell_type": "markdown",
   "metadata": {},
   "source": [
    "<h3>Dataset Description</h3>\n",
    "<ul>\n",
    "    <li>Dataset File_Format: CSV File[openaq.csv]</li>\n",
    "    <li>Dataset Source link: <a href=\"https://openaq.org/#/?_k=jj3sov\">Openaq</a></li>\n",
    "    <li>Reference of resource: Github, Kaggle, Packt Publishing books, Coursera.org, Udemy.com, Stackoverflow.com</li>\n",
    "    <li>Number Of Variables: <b>5604</b></li>\n",
    "    <li>Dataset consist of 11 set of Attributes which are as follows:\n",
    "        <ul>\n",
    "            <li><b>Location</b>: Place where the systems are installed to collect data.</li>\n",
    "            <li><b>City</b>: Only one constant value i.e. <b>Bangalore</b> is present.</li>\n",
    "            <li><b>Country</b>:  Only one constant value i.e. <b>IN</b> is present.</li> \n",
    "            <li><b>UTC</b>: UTC[Coordinated Universal Time], Time at which the value is recorded.</li> \n",
    "            <li><b>Local</b>: Local[Indian Standard Time], Time at which the value is recorded.</li> \n",
    "            <li><b>Parameters</b>: Recorded pollutants are as follows: <b>O3,SO2,CO,NO2,PM10,PM25</b></li> \n",
    "            <li><b>Value</b>: Recorded Values in given time</li>\n",
    "            <li><b>Unit</b>: Only one constant value i.e. <b>µg/m³</b> is present.</li> \n",
    "        <li><b>Latitude</b>:</li> \n",
    "        <li><b>Longitude</b>:</li> \n",
    "        <li><b>Attribution</b>:</li>     \n",
    "        </ul></li>\n",
    "</ul>    "
   ]
  },
  {
   "cell_type": "code",
   "execution_count": null,
   "metadata": {},
   "outputs": [],
   "source": []
  },
  {
   "cell_type": "code",
   "execution_count": null,
   "metadata": {},
   "outputs": [],
   "source": [
    "import pandas as pd\n",
    "import numpy as np\n",
    "import matplotlib.pyplot as plt\n",
    "import seaborn as sns\n",
    "import warnings\n",
    "warnings.filterwarnings('ignore')"
   ]
  },
  {
   "cell_type": "code",
   "execution_count": null,
   "metadata": {},
   "outputs": [],
   "source": []
  }
 ],
 "metadata": {
  "kernelspec": {
   "display_name": "Python 3",
   "language": "python",
   "name": "python3"
  },
  "language_info": {
   "codemirror_mode": {
    "name": "ipython",
    "version": 3
   },
   "file_extension": ".py",
   "mimetype": "text/x-python",
   "name": "python",
   "nbconvert_exporter": "python",
   "pygments_lexer": "ipython3",
   "version": "3.7.2"
  }
 },
 "nbformat": 4,
 "nbformat_minor": 2
}
